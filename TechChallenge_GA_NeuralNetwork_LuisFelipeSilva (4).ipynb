{
  "cells": [
    {
      "cell_type": "markdown",
      "id": "0b1b61a1",
      "metadata": {
        "id": "0b1b61a1"
      },
      "source": [
        "# Tech Challenge - Fase 2\n",
        "\n",
        "**Otimização de Rede Neural com Algoritmo Genético + Visualização**\n",
        "\n",
        "Projeto individual - Luís Felipe Alves Silva (RM: 363734)"
      ]
    },
    {
      "cell_type": "markdown",
      "id": "f184f5b6",
      "metadata": {
        "id": "f184f5b6"
      },
      "source": [
        "## 1. Importações"
      ]
    },
    {
      "cell_type": "code",
      "execution_count": null,
      "id": "c42aadac",
      "metadata": {
        "id": "c42aadac"
      },
      "outputs": [],
      "source": [
        "import numpy as np\n",
        "import random\n",
        "import matplotlib.pyplot as plt\n",
        "from sklearn.datasets import load_iris\n",
        "from sklearn.model_selection import train_test_split\n",
        "from sklearn.preprocessing import StandardScaler\n",
        "from sklearn.metrics import accuracy_score\n",
        "import tensorflow as tf\n",
        "from tensorflow.keras.models import Sequential\n",
        "from tensorflow.keras.layers import Dense\n",
        "from tensorflow.keras.utils import to_categorical"
      ]
    },
    {
      "cell_type": "markdown",
      "id": "51affdff",
      "metadata": {
        "id": "51affdff"
      },
      "source": [
        "## 2. Dados e Normalização"
      ]
    },
    {
      "cell_type": "code",
      "execution_count": null,
      "id": "d0851613",
      "metadata": {
        "id": "d0851613"
      },
      "outputs": [],
      "source": [
        "iris = load_iris()\n",
        "X = iris.data\n",
        "y = to_categorical(iris.target)\n",
        "X_train, X_test, y_train, y_test = train_test_split(X, y, test_size=0.2, random_state=42)\n",
        "scaler = StandardScaler()\n",
        "X_train = scaler.fit_transform(X_train)\n",
        "X_test = scaler.transform(X_test)"
      ]
    },
    {
      "cell_type": "markdown",
      "id": "04716927",
      "metadata": {
        "id": "04716927"
      },
      "source": [
        "## 3. Configurações do GA"
      ]
    },
    {
      "cell_type": "code",
      "execution_count": null,
      "id": "cf69d781",
      "metadata": {
        "id": "cf69d781"
      },
      "outputs": [],
      "source": [
        "POPULATION_SIZE = 10\n",
        "GENERATIONS = 10\n",
        "MUTATION_RATE = 0.1\n",
        "ACT_FUNCS = ['relu', 'sigmoid', 'tanh']"
      ]
    },
    {
      "cell_type": "markdown",
      "id": "f2215f43",
      "metadata": {
        "id": "f2215f43"
      },
      "source": [
        "## 4. Funções principais do GA"
      ]
    },
    {
      "cell_type": "code",
      "execution_count": null,
      "id": "7a5bccb5",
      "metadata": {
        "id": "7a5bccb5"
      },
      "outputs": [],
      "source": [
        "def decode_individual(ind):\n",
        "    neurons_1 = ind[0]\n",
        "    neurons_2 = ind[1]\n",
        "    act1 = ACT_FUNCS[ind[2]]\n",
        "    act2 = ACT_FUNCS[ind[3]]\n",
        "\n",
        "    model = Sequential()\n",
        "    model.add(Dense(neurons_1, activation=act1, input_shape=(4,)))\n",
        "    model.add(Dense(neurons_2, activation=act2))\n",
        "    model.add(Dense(3, activation='softmax'))\n",
        "\n",
        "    model.compile(optimizer='adam', loss='categorical_crossentropy', metrics=['accuracy'])\n",
        "    model.fit(X_train, y_train, epochs=30, verbose=0)\n",
        "    acc = model.evaluate(X_test, y_test, verbose=0)[1]\n",
        "    return acc"
      ]
    },
    {
      "cell_type": "code",
      "execution_count": null,
      "id": "552df8ab",
      "metadata": {
        "id": "552df8ab"
      },
      "outputs": [],
      "source": [
        "def create_individual():\n",
        "    return [random.randint(4, 64), random.randint(4, 64), random.randint(0, 2), random.randint(0, 2)]\n",
        "\n",
        "def mutate(ind):\n",
        "    i = random.randint(0, 3)\n",
        "    if i < 2:\n",
        "        ind[i] = random.randint(4, 64)\n",
        "    else:\n",
        "        ind[i] = random.randint(0, 2)\n",
        "\n",
        "def crossover(p1, p2):\n",
        "    cut = random.randint(1, 3)\n",
        "    return p1[:cut] + p2[cut:], p2[:cut] + p1[cut:]"
      ]
    },
    {
      "cell_type": "markdown",
      "id": "af4917c9",
      "metadata": {
        "id": "af4917c9"
      },
      "source": [
        "## 5. Execução do GA + Registro da Acurácia"
      ]
    },
    {
      "cell_type": "code",
      "execution_count": null,
      "id": "429b6949",
      "metadata": {
        "colab": {
          "base_uri": "https://localhost:8080/"
        },
        "id": "429b6949",
        "outputId": "ddc876ac-3ca9-4c50-c67d-d244fee9c2fc"
      },
      "outputs": [
        {
          "output_type": "stream",
          "name": "stderr",
          "text": [
            "/usr/local/lib/python3.11/dist-packages/keras/src/layers/core/dense.py:87: UserWarning: Do not pass an `input_shape`/`input_dim` argument to a layer. When using Sequential models, prefer using an `Input(shape)` object as the first layer in the model instead.\n",
            "  super().__init__(activity_regularizer=activity_regularizer, **kwargs)\n"
          ]
        },
        {
          "output_type": "stream",
          "name": "stdout",
          "text": [
            "Geração 1 - Melhor acurácia: 0.9667\n",
            "Geração 2 - Melhor acurácia: 0.9667\n",
            "Geração 3 - Melhor acurácia: 1.0000\n",
            "Geração 4 - Melhor acurácia: 1.0000\n",
            "Geração 5 - Melhor acurácia: 1.0000\n",
            "Geração 6 - Melhor acurácia: 1.0000\n",
            "Geração 7 - Melhor acurácia: 1.0000\n",
            "Geração 8 - Melhor acurácia: 1.0000\n",
            "Geração 9 - Melhor acurácia: 1.0000\n",
            "Geração 10 - Melhor acurácia: 1.0000\n"
          ]
        }
      ],
      "source": [
        "population = [create_individual() for _ in range(POPULATION_SIZE)]\n",
        "historico_melhores = []\n",
        "\n",
        "for generation in range(GENERATIONS):\n",
        "    fitness = [decode_individual(ind) for ind in population]\n",
        "    melhor_geracao = max(fitness)\n",
        "    historico_melhores.append(melhor_geracao)\n",
        "    print(f'Geração {generation + 1} - Melhor acurácia: {melhor_geracao:.4f}')\n",
        "    selected = [population[i] for i in np.argsort(fitness)[-POPULATION_SIZE//2:]]\n",
        "    children = []\n",
        "    while len(children) < POPULATION_SIZE:\n",
        "        p1, p2 = random.sample(selected, 2)\n",
        "        c1, c2 = crossover(p1, p2)\n",
        "        if random.random() < MUTATION_RATE:\n",
        "            mutate(c1)\n",
        "        if random.random() < MUTATION_RATE:\n",
        "            mutate(c2)\n",
        "        children.extend([c1, c2])\n",
        "    population = children[:POPULATION_SIZE]"
      ]
    },
    {
      "cell_type": "markdown",
      "id": "7e7277fb",
      "metadata": {
        "id": "7e7277fb"
      },
      "source": [
        "## 6. Visualização da Evolução da Acurácia"
      ]
    },
    {
      "cell_type": "code",
      "execution_count": null,
      "id": "9d5fb425",
      "metadata": {
        "id": "9d5fb425",
        "colab": {
          "base_uri": "https://localhost:8080/",
          "height": 488
        },
        "outputId": "7bf894e2-c931-4cfd-8403-e4b1249fa55e"
      },
      "outputs": [
        {
          "output_type": "display_data",
          "data": {
            "text/plain": [
              "<Figure size 1000x500 with 1 Axes>"
            ],
            "image/png": "[encoded data removed]"
          },
          "metadata": {}
        }
      ],
      "source": [
        "plt.figure(figsize=(10,5))\n",
        "plt.plot(historico_melhores, marker='o')\n",
        "plt.title('Evolução da Acurácia - Melhor por Geração')\n",
        "plt.xlabel('Geração')\n",
        "plt.ylabel('Acurácia')\n",
        "plt.grid(True)\n",
        "plt.show()"
      ]
    }
  ],
  "metadata": {
    "colab": {
      "provenance": []
    },
    "language_info": {
      "name": "python"
    },
    "kernelspec": {
      "name": "python3",
      "display_name": "Python 3"
    }
  },
  "nbformat": 4,
  "nbformat_minor": 5
}